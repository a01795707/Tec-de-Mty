{
 "cells": [
  {
   "cell_type": "markdown",
   "metadata": {
    "id": "0v5lZjzQZTms"
   },
   "source": [
    "**MAESTRÍA EN INTELIGENCIA ARTIFICIAL APLICADA**\n",
    "\n",
    "**Curso: TC4029 - Ciencia y analítica de datos**\n",
    "\n",
    "Tecnológico de Monterrey\n",
    "\n",
    "Prof Grettel Barceló Alonso\n",
    "\n",
    "**Semana 6**\n",
    "Ingeniería de características (FE)\n",
    "\n",
    "---"
   ]
  },
  {
   "cell_type": "markdown",
   "metadata": {
    "id": "HfLoXtuKuCug"
   },
   "source": [
    "*   NOMBRE: Rodrigo Antonio Martinez Zuniga\n",
    "*   MATRÍCULA: 01795707"
   ]
  },
  {
   "cell_type": "code",
   "execution_count": null,
   "metadata": {
    "colab": {
     "base_uri": "https://localhost:8080/"
    },
    "id": "nboaPqUVuHQc",
    "outputId": "75c09d19-a1fd-4cdf-a768-84b37ae32ba5"
   },
   "outputs": [
    {
     "name": "stdout",
     "output_type": "stream",
     "text": [
      "Mounted at /content/drive\n"
     ]
    }
   ],
   "source": [
    "from google.colab import drive\n",
    "drive.mount('/content/drive')"
   ]
  },
  {
   "cell_type": "code",
   "execution_count": null,
   "metadata": {
    "id": "nKdwi4dUuJQG"
   },
   "outputs": [],
   "source": [
    "import os\n",
    "DIR = \"/content/drive/MyDrive/Colab Notebooks/MNA/TC4029 - Ciencia y analítica de datos/Semana 6/Actividad6_FE\"\n",
    "os.chdir(DIR)"
   ]
  },
  {
   "cell_type": "code",
   "execution_count": 4,
   "metadata": {
    "id": "7Qc1oYLeZTmu"
   },
   "outputs": [],
   "source": [
    "import pandas as pd\n",
    "import numpy as np\n",
    "import matplotlib.pyplot as plt\n",
    "import seaborn as sns\n",
    "import scipy.stats as stats"
   ]
  },
  {
   "cell_type": "code",
   "execution_count": 5,
   "metadata": {
    "colab": {
     "base_uri": "https://localhost:8080/",
     "height": 783
    },
    "id": "8Z_KZl5LZTmz",
    "outputId": "8c368eed-cabc-4447-c87b-f6b81abe9d57",
    "scrolled": true
   },
   "outputs": [
    {
     "data": {
      "text/html": [
       "<div>\n",
       "<style scoped>\n",
       "    .dataframe tbody tr th:only-of-type {\n",
       "        vertical-align: middle;\n",
       "    }\n",
       "\n",
       "    .dataframe tbody tr th {\n",
       "        vertical-align: top;\n",
       "    }\n",
       "\n",
       "    .dataframe thead th {\n",
       "        text-align: right;\n",
       "    }\n",
       "</style>\n",
       "<table border=\"1\" class=\"dataframe\">\n",
       "  <thead>\n",
       "    <tr style=\"text-align: right;\">\n",
       "      <th></th>\n",
       "      <th>id</th>\n",
       "      <th>url</th>\n",
       "      <th>region</th>\n",
       "      <th>region_url</th>\n",
       "      <th>price</th>\n",
       "      <th>year</th>\n",
       "      <th>manufacturer</th>\n",
       "      <th>model</th>\n",
       "      <th>condition</th>\n",
       "      <th>cylinders</th>\n",
       "      <th>...</th>\n",
       "      <th>size</th>\n",
       "      <th>type</th>\n",
       "      <th>paint_color</th>\n",
       "      <th>image_url</th>\n",
       "      <th>description</th>\n",
       "      <th>county</th>\n",
       "      <th>state</th>\n",
       "      <th>lat</th>\n",
       "      <th>long</th>\n",
       "      <th>posting_date</th>\n",
       "    </tr>\n",
       "  </thead>\n",
       "  <tbody>\n",
       "    <tr>\n",
       "      <th>0</th>\n",
       "      <td>7222695916</td>\n",
       "      <td>https://prescott.craigslist.org/cto/d/prescott...</td>\n",
       "      <td>prescott</td>\n",
       "      <td>https://prescott.craigslist.org</td>\n",
       "      <td>6000</td>\n",
       "      <td>NaN</td>\n",
       "      <td>NaN</td>\n",
       "      <td>NaN</td>\n",
       "      <td>NaN</td>\n",
       "      <td>NaN</td>\n",
       "      <td>...</td>\n",
       "      <td>NaN</td>\n",
       "      <td>NaN</td>\n",
       "      <td>NaN</td>\n",
       "      <td>NaN</td>\n",
       "      <td>NaN</td>\n",
       "      <td>NaN</td>\n",
       "      <td>az</td>\n",
       "      <td>NaN</td>\n",
       "      <td>NaN</td>\n",
       "      <td>NaN</td>\n",
       "    </tr>\n",
       "    <tr>\n",
       "      <th>1</th>\n",
       "      <td>7218891961</td>\n",
       "      <td>https://fayar.craigslist.org/ctd/d/bentonville...</td>\n",
       "      <td>fayetteville</td>\n",
       "      <td>https://fayar.craigslist.org</td>\n",
       "      <td>11900</td>\n",
       "      <td>NaN</td>\n",
       "      <td>NaN</td>\n",
       "      <td>NaN</td>\n",
       "      <td>NaN</td>\n",
       "      <td>NaN</td>\n",
       "      <td>...</td>\n",
       "      <td>NaN</td>\n",
       "      <td>NaN</td>\n",
       "      <td>NaN</td>\n",
       "      <td>NaN</td>\n",
       "      <td>NaN</td>\n",
       "      <td>NaN</td>\n",
       "      <td>ar</td>\n",
       "      <td>NaN</td>\n",
       "      <td>NaN</td>\n",
       "      <td>NaN</td>\n",
       "    </tr>\n",
       "    <tr>\n",
       "      <th>2</th>\n",
       "      <td>7221797935</td>\n",
       "      <td>https://keys.craigslist.org/cto/d/summerland-k...</td>\n",
       "      <td>florida keys</td>\n",
       "      <td>https://keys.craigslist.org</td>\n",
       "      <td>21000</td>\n",
       "      <td>NaN</td>\n",
       "      <td>NaN</td>\n",
       "      <td>NaN</td>\n",
       "      <td>NaN</td>\n",
       "      <td>NaN</td>\n",
       "      <td>...</td>\n",
       "      <td>NaN</td>\n",
       "      <td>NaN</td>\n",
       "      <td>NaN</td>\n",
       "      <td>NaN</td>\n",
       "      <td>NaN</td>\n",
       "      <td>NaN</td>\n",
       "      <td>fl</td>\n",
       "      <td>NaN</td>\n",
       "      <td>NaN</td>\n",
       "      <td>NaN</td>\n",
       "    </tr>\n",
       "    <tr>\n",
       "      <th>3</th>\n",
       "      <td>7222270760</td>\n",
       "      <td>https://worcester.craigslist.org/cto/d/west-br...</td>\n",
       "      <td>worcester / central MA</td>\n",
       "      <td>https://worcester.craigslist.org</td>\n",
       "      <td>1500</td>\n",
       "      <td>NaN</td>\n",
       "      <td>NaN</td>\n",
       "      <td>NaN</td>\n",
       "      <td>NaN</td>\n",
       "      <td>NaN</td>\n",
       "      <td>...</td>\n",
       "      <td>NaN</td>\n",
       "      <td>NaN</td>\n",
       "      <td>NaN</td>\n",
       "      <td>NaN</td>\n",
       "      <td>NaN</td>\n",
       "      <td>NaN</td>\n",
       "      <td>ma</td>\n",
       "      <td>NaN</td>\n",
       "      <td>NaN</td>\n",
       "      <td>NaN</td>\n",
       "    </tr>\n",
       "    <tr>\n",
       "      <th>4</th>\n",
       "      <td>7210384030</td>\n",
       "      <td>https://greensboro.craigslist.org/cto/d/trinit...</td>\n",
       "      <td>greensboro</td>\n",
       "      <td>https://greensboro.craigslist.org</td>\n",
       "      <td>4900</td>\n",
       "      <td>NaN</td>\n",
       "      <td>NaN</td>\n",
       "      <td>NaN</td>\n",
       "      <td>NaN</td>\n",
       "      <td>NaN</td>\n",
       "      <td>...</td>\n",
       "      <td>NaN</td>\n",
       "      <td>NaN</td>\n",
       "      <td>NaN</td>\n",
       "      <td>NaN</td>\n",
       "      <td>NaN</td>\n",
       "      <td>NaN</td>\n",
       "      <td>nc</td>\n",
       "      <td>NaN</td>\n",
       "      <td>NaN</td>\n",
       "      <td>NaN</td>\n",
       "    </tr>\n",
       "    <tr>\n",
       "      <th>...</th>\n",
       "      <td>...</td>\n",
       "      <td>...</td>\n",
       "      <td>...</td>\n",
       "      <td>...</td>\n",
       "      <td>...</td>\n",
       "      <td>...</td>\n",
       "      <td>...</td>\n",
       "      <td>...</td>\n",
       "      <td>...</td>\n",
       "      <td>...</td>\n",
       "      <td>...</td>\n",
       "      <td>...</td>\n",
       "      <td>...</td>\n",
       "      <td>...</td>\n",
       "      <td>...</td>\n",
       "      <td>...</td>\n",
       "      <td>...</td>\n",
       "      <td>...</td>\n",
       "      <td>...</td>\n",
       "      <td>...</td>\n",
       "      <td>...</td>\n",
       "    </tr>\n",
       "    <tr>\n",
       "      <th>426875</th>\n",
       "      <td>7301591192</td>\n",
       "      <td>https://wyoming.craigslist.org/ctd/d/atlanta-2...</td>\n",
       "      <td>wyoming</td>\n",
       "      <td>https://wyoming.craigslist.org</td>\n",
       "      <td>23590</td>\n",
       "      <td>2019.0</td>\n",
       "      <td>nissan</td>\n",
       "      <td>maxima s sedan 4d</td>\n",
       "      <td>good</td>\n",
       "      <td>6 cylinders</td>\n",
       "      <td>...</td>\n",
       "      <td>NaN</td>\n",
       "      <td>sedan</td>\n",
       "      <td>NaN</td>\n",
       "      <td>https://images.craigslist.org/00o0o_iiraFnHg8q...</td>\n",
       "      <td>Carvana is the safer way to buy a car During t...</td>\n",
       "      <td>NaN</td>\n",
       "      <td>wy</td>\n",
       "      <td>33.786500</td>\n",
       "      <td>-84.445400</td>\n",
       "      <td>2021-04-04T03:21:31-0600</td>\n",
       "    </tr>\n",
       "    <tr>\n",
       "      <th>426876</th>\n",
       "      <td>7301591187</td>\n",
       "      <td>https://wyoming.craigslist.org/ctd/d/atlanta-2...</td>\n",
       "      <td>wyoming</td>\n",
       "      <td>https://wyoming.craigslist.org</td>\n",
       "      <td>30590</td>\n",
       "      <td>2020.0</td>\n",
       "      <td>volvo</td>\n",
       "      <td>s60 t5 momentum sedan 4d</td>\n",
       "      <td>good</td>\n",
       "      <td>NaN</td>\n",
       "      <td>...</td>\n",
       "      <td>NaN</td>\n",
       "      <td>sedan</td>\n",
       "      <td>red</td>\n",
       "      <td>https://images.craigslist.org/00x0x_15sbgnxCIS...</td>\n",
       "      <td>Carvana is the safer way to buy a car During t...</td>\n",
       "      <td>NaN</td>\n",
       "      <td>wy</td>\n",
       "      <td>33.786500</td>\n",
       "      <td>-84.445400</td>\n",
       "      <td>2021-04-04T03:21:29-0600</td>\n",
       "    </tr>\n",
       "    <tr>\n",
       "      <th>426877</th>\n",
       "      <td>7301591147</td>\n",
       "      <td>https://wyoming.craigslist.org/ctd/d/atlanta-2...</td>\n",
       "      <td>wyoming</td>\n",
       "      <td>https://wyoming.craigslist.org</td>\n",
       "      <td>34990</td>\n",
       "      <td>2020.0</td>\n",
       "      <td>cadillac</td>\n",
       "      <td>xt4 sport suv 4d</td>\n",
       "      <td>good</td>\n",
       "      <td>NaN</td>\n",
       "      <td>...</td>\n",
       "      <td>NaN</td>\n",
       "      <td>hatchback</td>\n",
       "      <td>white</td>\n",
       "      <td>https://images.craigslist.org/00L0L_farM7bxnxR...</td>\n",
       "      <td>Carvana is the safer way to buy a car During t...</td>\n",
       "      <td>NaN</td>\n",
       "      <td>wy</td>\n",
       "      <td>33.779214</td>\n",
       "      <td>-84.411811</td>\n",
       "      <td>2021-04-04T03:21:17-0600</td>\n",
       "    </tr>\n",
       "    <tr>\n",
       "      <th>426878</th>\n",
       "      <td>7301591140</td>\n",
       "      <td>https://wyoming.craigslist.org/ctd/d/atlanta-2...</td>\n",
       "      <td>wyoming</td>\n",
       "      <td>https://wyoming.craigslist.org</td>\n",
       "      <td>28990</td>\n",
       "      <td>2018.0</td>\n",
       "      <td>lexus</td>\n",
       "      <td>es 350 sedan 4d</td>\n",
       "      <td>good</td>\n",
       "      <td>6 cylinders</td>\n",
       "      <td>...</td>\n",
       "      <td>NaN</td>\n",
       "      <td>sedan</td>\n",
       "      <td>silver</td>\n",
       "      <td>https://images.craigslist.org/00z0z_bKnIVGLkDT...</td>\n",
       "      <td>Carvana is the safer way to buy a car During t...</td>\n",
       "      <td>NaN</td>\n",
       "      <td>wy</td>\n",
       "      <td>33.786500</td>\n",
       "      <td>-84.445400</td>\n",
       "      <td>2021-04-04T03:21:11-0600</td>\n",
       "    </tr>\n",
       "    <tr>\n",
       "      <th>426879</th>\n",
       "      <td>7301591129</td>\n",
       "      <td>https://wyoming.craigslist.org/ctd/d/atlanta-2...</td>\n",
       "      <td>wyoming</td>\n",
       "      <td>https://wyoming.craigslist.org</td>\n",
       "      <td>30590</td>\n",
       "      <td>2019.0</td>\n",
       "      <td>bmw</td>\n",
       "      <td>4 series 430i gran coupe</td>\n",
       "      <td>good</td>\n",
       "      <td>NaN</td>\n",
       "      <td>...</td>\n",
       "      <td>NaN</td>\n",
       "      <td>coupe</td>\n",
       "      <td>NaN</td>\n",
       "      <td>https://images.craigslist.org/00Y0Y_lEUocjyRxa...</td>\n",
       "      <td>Carvana is the safer way to buy a car During t...</td>\n",
       "      <td>NaN</td>\n",
       "      <td>wy</td>\n",
       "      <td>33.779214</td>\n",
       "      <td>-84.411811</td>\n",
       "      <td>2021-04-04T03:21:07-0600</td>\n",
       "    </tr>\n",
       "  </tbody>\n",
       "</table>\n",
       "<p>426880 rows × 26 columns</p>\n",
       "</div>"
      ],
      "text/plain": [
       "                id                                                url  \\\n",
       "0       7222695916  https://prescott.craigslist.org/cto/d/prescott...   \n",
       "1       7218891961  https://fayar.craigslist.org/ctd/d/bentonville...   \n",
       "2       7221797935  https://keys.craigslist.org/cto/d/summerland-k...   \n",
       "3       7222270760  https://worcester.craigslist.org/cto/d/west-br...   \n",
       "4       7210384030  https://greensboro.craigslist.org/cto/d/trinit...   \n",
       "...            ...                                                ...   \n",
       "426875  7301591192  https://wyoming.craigslist.org/ctd/d/atlanta-2...   \n",
       "426876  7301591187  https://wyoming.craigslist.org/ctd/d/atlanta-2...   \n",
       "426877  7301591147  https://wyoming.craigslist.org/ctd/d/atlanta-2...   \n",
       "426878  7301591140  https://wyoming.craigslist.org/ctd/d/atlanta-2...   \n",
       "426879  7301591129  https://wyoming.craigslist.org/ctd/d/atlanta-2...   \n",
       "\n",
       "                        region                         region_url  price  \\\n",
       "0                     prescott    https://prescott.craigslist.org   6000   \n",
       "1                 fayetteville       https://fayar.craigslist.org  11900   \n",
       "2                 florida keys        https://keys.craigslist.org  21000   \n",
       "3       worcester / central MA   https://worcester.craigslist.org   1500   \n",
       "4                   greensboro  https://greensboro.craigslist.org   4900   \n",
       "...                        ...                                ...    ...   \n",
       "426875                 wyoming     https://wyoming.craigslist.org  23590   \n",
       "426876                 wyoming     https://wyoming.craigslist.org  30590   \n",
       "426877                 wyoming     https://wyoming.craigslist.org  34990   \n",
       "426878                 wyoming     https://wyoming.craigslist.org  28990   \n",
       "426879                 wyoming     https://wyoming.craigslist.org  30590   \n",
       "\n",
       "          year manufacturer                     model condition    cylinders  \\\n",
       "0          NaN          NaN                       NaN       NaN          NaN   \n",
       "1          NaN          NaN                       NaN       NaN          NaN   \n",
       "2          NaN          NaN                       NaN       NaN          NaN   \n",
       "3          NaN          NaN                       NaN       NaN          NaN   \n",
       "4          NaN          NaN                       NaN       NaN          NaN   \n",
       "...        ...          ...                       ...       ...          ...   \n",
       "426875  2019.0       nissan         maxima s sedan 4d      good  6 cylinders   \n",
       "426876  2020.0        volvo  s60 t5 momentum sedan 4d      good          NaN   \n",
       "426877  2020.0     cadillac          xt4 sport suv 4d      good          NaN   \n",
       "426878  2018.0        lexus           es 350 sedan 4d      good  6 cylinders   \n",
       "426879  2019.0          bmw  4 series 430i gran coupe      good          NaN   \n",
       "\n",
       "        ... size       type paint_color  \\\n",
       "0       ...  NaN        NaN         NaN   \n",
       "1       ...  NaN        NaN         NaN   \n",
       "2       ...  NaN        NaN         NaN   \n",
       "3       ...  NaN        NaN         NaN   \n",
       "4       ...  NaN        NaN         NaN   \n",
       "...     ...  ...        ...         ...   \n",
       "426875  ...  NaN      sedan         NaN   \n",
       "426876  ...  NaN      sedan         red   \n",
       "426877  ...  NaN  hatchback       white   \n",
       "426878  ...  NaN      sedan      silver   \n",
       "426879  ...  NaN      coupe         NaN   \n",
       "\n",
       "                                                image_url  \\\n",
       "0                                                     NaN   \n",
       "1                                                     NaN   \n",
       "2                                                     NaN   \n",
       "3                                                     NaN   \n",
       "4                                                     NaN   \n",
       "...                                                   ...   \n",
       "426875  https://images.craigslist.org/00o0o_iiraFnHg8q...   \n",
       "426876  https://images.craigslist.org/00x0x_15sbgnxCIS...   \n",
       "426877  https://images.craigslist.org/00L0L_farM7bxnxR...   \n",
       "426878  https://images.craigslist.org/00z0z_bKnIVGLkDT...   \n",
       "426879  https://images.craigslist.org/00Y0Y_lEUocjyRxa...   \n",
       "\n",
       "                                              description county state  \\\n",
       "0                                                     NaN    NaN    az   \n",
       "1                                                     NaN    NaN    ar   \n",
       "2                                                     NaN    NaN    fl   \n",
       "3                                                     NaN    NaN    ma   \n",
       "4                                                     NaN    NaN    nc   \n",
       "...                                                   ...    ...   ...   \n",
       "426875  Carvana is the safer way to buy a car During t...    NaN    wy   \n",
       "426876  Carvana is the safer way to buy a car During t...    NaN    wy   \n",
       "426877  Carvana is the safer way to buy a car During t...    NaN    wy   \n",
       "426878  Carvana is the safer way to buy a car During t...    NaN    wy   \n",
       "426879  Carvana is the safer way to buy a car During t...    NaN    wy   \n",
       "\n",
       "              lat       long              posting_date  \n",
       "0             NaN        NaN                       NaN  \n",
       "1             NaN        NaN                       NaN  \n",
       "2             NaN        NaN                       NaN  \n",
       "3             NaN        NaN                       NaN  \n",
       "4             NaN        NaN                       NaN  \n",
       "...           ...        ...                       ...  \n",
       "426875  33.786500 -84.445400  2021-04-04T03:21:31-0600  \n",
       "426876  33.786500 -84.445400  2021-04-04T03:21:29-0600  \n",
       "426877  33.779214 -84.411811  2021-04-04T03:21:17-0600  \n",
       "426878  33.786500 -84.445400  2021-04-04T03:21:11-0600  \n",
       "426879  33.779214 -84.411811  2021-04-04T03:21:07-0600  \n",
       "\n",
       "[426880 rows x 26 columns]"
      ]
     },
     "execution_count": 5,
     "metadata": {},
     "output_type": "execute_result"
    }
   ],
   "source": [
    "cars_df = pd.read_csv('vehicles.csv')\n",
    "cars_df"
   ]
  },
  {
   "cell_type": "code",
   "execution_count": 9,
   "metadata": {
    "colab": {
     "base_uri": "https://localhost:8080/"
    },
    "id": "3qh5mTR11Gea",
    "outputId": "6be87261-afaf-4956-8587-af68d4cde688",
    "scrolled": true
   },
   "outputs": [
    {
     "name": "stdout",
     "output_type": "stream",
     "text": [
      "<class 'pandas.core.frame.DataFrame'>\n",
      "RangeIndex: 426880 entries, 0 to 426879\n",
      "Data columns (total 26 columns):\n",
      " #   Column        Non-Null Count   Dtype  \n",
      "---  ------        --------------   -----  \n",
      " 0   id            426880 non-null  int64  \n",
      " 1   url           426880 non-null  object \n",
      " 2   region        426880 non-null  object \n",
      " 3   region_url    426880 non-null  object \n",
      " 4   price         426880 non-null  int64  \n",
      " 5   year          425675 non-null  float64\n",
      " 6   manufacturer  409234 non-null  object \n",
      " 7   model         421603 non-null  object \n",
      " 8   condition     252776 non-null  object \n",
      " 9   cylinders     249202 non-null  object \n",
      " 10  fuel          423867 non-null  object \n",
      " 11  odometer      422480 non-null  float64\n",
      " 12  title_status  418638 non-null  object \n",
      " 13  transmission  424324 non-null  object \n",
      " 14  VIN           265838 non-null  object \n",
      " 15  drive         296313 non-null  object \n",
      " 16  size          120519 non-null  object \n",
      " 17  type          334022 non-null  object \n",
      " 18  paint_color   296677 non-null  object \n",
      " 19  image_url     426812 non-null  object \n",
      " 20  description   426810 non-null  object \n",
      " 21  county        0 non-null       float64\n",
      " 22  state         426880 non-null  object \n",
      " 23  lat           420331 non-null  float64\n",
      " 24  long          420331 non-null  float64\n",
      " 25  posting_date  426812 non-null  object \n",
      "dtypes: float64(5), int64(2), object(19)\n",
      "memory usage: 84.7+ MB\n"
     ]
    }
   ],
   "source": [
    "cars_df.info()"
   ]
  },
  {
   "cell_type": "markdown",
   "metadata": {
    "id": "NCkp_IyzsN4r"
   },
   "source": [
    "# **Parte 1**. Preprocesamiento"
   ]
  },
  {
   "cell_type": "markdown",
   "metadata": {
    "id": "OegZ-_zmsjLf"
   },
   "source": [
    "1a)    Remove columns that will not be relevant to this activity: `id`, `VIN`, `url`, `image_url`, `description`, `posting_date`, `lat`, `long`.\n"
   ]
  },
  {
   "cell_type": "code",
   "execution_count": 20,
   "metadata": {
    "id": "RC5jdEpJ7fYk",
    "scrolled": true
   },
   "outputs": [
    {
     "data": {
      "text/html": [
       "<div>\n",
       "<style scoped>\n",
       "    .dataframe tbody tr th:only-of-type {\n",
       "        vertical-align: middle;\n",
       "    }\n",
       "\n",
       "    .dataframe tbody tr th {\n",
       "        vertical-align: top;\n",
       "    }\n",
       "\n",
       "    .dataframe thead th {\n",
       "        text-align: right;\n",
       "    }\n",
       "</style>\n",
       "<table border=\"1\" class=\"dataframe\">\n",
       "  <thead>\n",
       "    <tr style=\"text-align: right;\">\n",
       "      <th></th>\n",
       "      <th>region</th>\n",
       "      <th>region_url</th>\n",
       "      <th>price</th>\n",
       "      <th>year</th>\n",
       "      <th>manufacturer</th>\n",
       "      <th>model</th>\n",
       "      <th>condition</th>\n",
       "      <th>cylinders</th>\n",
       "      <th>fuel</th>\n",
       "      <th>odometer</th>\n",
       "      <th>title_status</th>\n",
       "      <th>transmission</th>\n",
       "      <th>drive</th>\n",
       "      <th>size</th>\n",
       "      <th>type</th>\n",
       "      <th>paint_color</th>\n",
       "      <th>county</th>\n",
       "      <th>state</th>\n",
       "    </tr>\n",
       "  </thead>\n",
       "  <tbody>\n",
       "    <tr>\n",
       "      <th>0</th>\n",
       "      <td>prescott</td>\n",
       "      <td>https://prescott.craigslist.org</td>\n",
       "      <td>6000</td>\n",
       "      <td>NaN</td>\n",
       "      <td>NaN</td>\n",
       "      <td>NaN</td>\n",
       "      <td>NaN</td>\n",
       "      <td>NaN</td>\n",
       "      <td>NaN</td>\n",
       "      <td>NaN</td>\n",
       "      <td>NaN</td>\n",
       "      <td>NaN</td>\n",
       "      <td>NaN</td>\n",
       "      <td>NaN</td>\n",
       "      <td>NaN</td>\n",
       "      <td>NaN</td>\n",
       "      <td>NaN</td>\n",
       "      <td>az</td>\n",
       "    </tr>\n",
       "    <tr>\n",
       "      <th>1</th>\n",
       "      <td>fayetteville</td>\n",
       "      <td>https://fayar.craigslist.org</td>\n",
       "      <td>11900</td>\n",
       "      <td>NaN</td>\n",
       "      <td>NaN</td>\n",
       "      <td>NaN</td>\n",
       "      <td>NaN</td>\n",
       "      <td>NaN</td>\n",
       "      <td>NaN</td>\n",
       "      <td>NaN</td>\n",
       "      <td>NaN</td>\n",
       "      <td>NaN</td>\n",
       "      <td>NaN</td>\n",
       "      <td>NaN</td>\n",
       "      <td>NaN</td>\n",
       "      <td>NaN</td>\n",
       "      <td>NaN</td>\n",
       "      <td>ar</td>\n",
       "    </tr>\n",
       "    <tr>\n",
       "      <th>2</th>\n",
       "      <td>florida keys</td>\n",
       "      <td>https://keys.craigslist.org</td>\n",
       "      <td>21000</td>\n",
       "      <td>NaN</td>\n",
       "      <td>NaN</td>\n",
       "      <td>NaN</td>\n",
       "      <td>NaN</td>\n",
       "      <td>NaN</td>\n",
       "      <td>NaN</td>\n",
       "      <td>NaN</td>\n",
       "      <td>NaN</td>\n",
       "      <td>NaN</td>\n",
       "      <td>NaN</td>\n",
       "      <td>NaN</td>\n",
       "      <td>NaN</td>\n",
       "      <td>NaN</td>\n",
       "      <td>NaN</td>\n",
       "      <td>fl</td>\n",
       "    </tr>\n",
       "    <tr>\n",
       "      <th>3</th>\n",
       "      <td>worcester / central MA</td>\n",
       "      <td>https://worcester.craigslist.org</td>\n",
       "      <td>1500</td>\n",
       "      <td>NaN</td>\n",
       "      <td>NaN</td>\n",
       "      <td>NaN</td>\n",
       "      <td>NaN</td>\n",
       "      <td>NaN</td>\n",
       "      <td>NaN</td>\n",
       "      <td>NaN</td>\n",
       "      <td>NaN</td>\n",
       "      <td>NaN</td>\n",
       "      <td>NaN</td>\n",
       "      <td>NaN</td>\n",
       "      <td>NaN</td>\n",
       "      <td>NaN</td>\n",
       "      <td>NaN</td>\n",
       "      <td>ma</td>\n",
       "    </tr>\n",
       "    <tr>\n",
       "      <th>4</th>\n",
       "      <td>greensboro</td>\n",
       "      <td>https://greensboro.craigslist.org</td>\n",
       "      <td>4900</td>\n",
       "      <td>NaN</td>\n",
       "      <td>NaN</td>\n",
       "      <td>NaN</td>\n",
       "      <td>NaN</td>\n",
       "      <td>NaN</td>\n",
       "      <td>NaN</td>\n",
       "      <td>NaN</td>\n",
       "      <td>NaN</td>\n",
       "      <td>NaN</td>\n",
       "      <td>NaN</td>\n",
       "      <td>NaN</td>\n",
       "      <td>NaN</td>\n",
       "      <td>NaN</td>\n",
       "      <td>NaN</td>\n",
       "      <td>nc</td>\n",
       "    </tr>\n",
       "    <tr>\n",
       "      <th>...</th>\n",
       "      <td>...</td>\n",
       "      <td>...</td>\n",
       "      <td>...</td>\n",
       "      <td>...</td>\n",
       "      <td>...</td>\n",
       "      <td>...</td>\n",
       "      <td>...</td>\n",
       "      <td>...</td>\n",
       "      <td>...</td>\n",
       "      <td>...</td>\n",
       "      <td>...</td>\n",
       "      <td>...</td>\n",
       "      <td>...</td>\n",
       "      <td>...</td>\n",
       "      <td>...</td>\n",
       "      <td>...</td>\n",
       "      <td>...</td>\n",
       "      <td>...</td>\n",
       "    </tr>\n",
       "    <tr>\n",
       "      <th>426875</th>\n",
       "      <td>wyoming</td>\n",
       "      <td>https://wyoming.craigslist.org</td>\n",
       "      <td>23590</td>\n",
       "      <td>2019.0</td>\n",
       "      <td>nissan</td>\n",
       "      <td>maxima s sedan 4d</td>\n",
       "      <td>good</td>\n",
       "      <td>6 cylinders</td>\n",
       "      <td>gas</td>\n",
       "      <td>32226.0</td>\n",
       "      <td>clean</td>\n",
       "      <td>other</td>\n",
       "      <td>fwd</td>\n",
       "      <td>NaN</td>\n",
       "      <td>sedan</td>\n",
       "      <td>NaN</td>\n",
       "      <td>NaN</td>\n",
       "      <td>wy</td>\n",
       "    </tr>\n",
       "    <tr>\n",
       "      <th>426876</th>\n",
       "      <td>wyoming</td>\n",
       "      <td>https://wyoming.craigslist.org</td>\n",
       "      <td>30590</td>\n",
       "      <td>2020.0</td>\n",
       "      <td>volvo</td>\n",
       "      <td>s60 t5 momentum sedan 4d</td>\n",
       "      <td>good</td>\n",
       "      <td>NaN</td>\n",
       "      <td>gas</td>\n",
       "      <td>12029.0</td>\n",
       "      <td>clean</td>\n",
       "      <td>other</td>\n",
       "      <td>fwd</td>\n",
       "      <td>NaN</td>\n",
       "      <td>sedan</td>\n",
       "      <td>red</td>\n",
       "      <td>NaN</td>\n",
       "      <td>wy</td>\n",
       "    </tr>\n",
       "    <tr>\n",
       "      <th>426877</th>\n",
       "      <td>wyoming</td>\n",
       "      <td>https://wyoming.craigslist.org</td>\n",
       "      <td>34990</td>\n",
       "      <td>2020.0</td>\n",
       "      <td>cadillac</td>\n",
       "      <td>xt4 sport suv 4d</td>\n",
       "      <td>good</td>\n",
       "      <td>NaN</td>\n",
       "      <td>diesel</td>\n",
       "      <td>4174.0</td>\n",
       "      <td>clean</td>\n",
       "      <td>other</td>\n",
       "      <td>NaN</td>\n",
       "      <td>NaN</td>\n",
       "      <td>hatchback</td>\n",
       "      <td>white</td>\n",
       "      <td>NaN</td>\n",
       "      <td>wy</td>\n",
       "    </tr>\n",
       "    <tr>\n",
       "      <th>426878</th>\n",
       "      <td>wyoming</td>\n",
       "      <td>https://wyoming.craigslist.org</td>\n",
       "      <td>28990</td>\n",
       "      <td>2018.0</td>\n",
       "      <td>lexus</td>\n",
       "      <td>es 350 sedan 4d</td>\n",
       "      <td>good</td>\n",
       "      <td>6 cylinders</td>\n",
       "      <td>gas</td>\n",
       "      <td>30112.0</td>\n",
       "      <td>clean</td>\n",
       "      <td>other</td>\n",
       "      <td>fwd</td>\n",
       "      <td>NaN</td>\n",
       "      <td>sedan</td>\n",
       "      <td>silver</td>\n",
       "      <td>NaN</td>\n",
       "      <td>wy</td>\n",
       "    </tr>\n",
       "    <tr>\n",
       "      <th>426879</th>\n",
       "      <td>wyoming</td>\n",
       "      <td>https://wyoming.craigslist.org</td>\n",
       "      <td>30590</td>\n",
       "      <td>2019.0</td>\n",
       "      <td>bmw</td>\n",
       "      <td>4 series 430i gran coupe</td>\n",
       "      <td>good</td>\n",
       "      <td>NaN</td>\n",
       "      <td>gas</td>\n",
       "      <td>22716.0</td>\n",
       "      <td>clean</td>\n",
       "      <td>other</td>\n",
       "      <td>rwd</td>\n",
       "      <td>NaN</td>\n",
       "      <td>coupe</td>\n",
       "      <td>NaN</td>\n",
       "      <td>NaN</td>\n",
       "      <td>wy</td>\n",
       "    </tr>\n",
       "  </tbody>\n",
       "</table>\n",
       "<p>426880 rows × 18 columns</p>\n",
       "</div>"
      ],
      "text/plain": [
       "                        region                         region_url  price  \\\n",
       "0                     prescott    https://prescott.craigslist.org   6000   \n",
       "1                 fayetteville       https://fayar.craigslist.org  11900   \n",
       "2                 florida keys        https://keys.craigslist.org  21000   \n",
       "3       worcester / central MA   https://worcester.craigslist.org   1500   \n",
       "4                   greensboro  https://greensboro.craigslist.org   4900   \n",
       "...                        ...                                ...    ...   \n",
       "426875                 wyoming     https://wyoming.craigslist.org  23590   \n",
       "426876                 wyoming     https://wyoming.craigslist.org  30590   \n",
       "426877                 wyoming     https://wyoming.craigslist.org  34990   \n",
       "426878                 wyoming     https://wyoming.craigslist.org  28990   \n",
       "426879                 wyoming     https://wyoming.craigslist.org  30590   \n",
       "\n",
       "          year manufacturer                     model condition    cylinders  \\\n",
       "0          NaN          NaN                       NaN       NaN          NaN   \n",
       "1          NaN          NaN                       NaN       NaN          NaN   \n",
       "2          NaN          NaN                       NaN       NaN          NaN   \n",
       "3          NaN          NaN                       NaN       NaN          NaN   \n",
       "4          NaN          NaN                       NaN       NaN          NaN   \n",
       "...        ...          ...                       ...       ...          ...   \n",
       "426875  2019.0       nissan         maxima s sedan 4d      good  6 cylinders   \n",
       "426876  2020.0        volvo  s60 t5 momentum sedan 4d      good          NaN   \n",
       "426877  2020.0     cadillac          xt4 sport suv 4d      good          NaN   \n",
       "426878  2018.0        lexus           es 350 sedan 4d      good  6 cylinders   \n",
       "426879  2019.0          bmw  4 series 430i gran coupe      good          NaN   \n",
       "\n",
       "          fuel  odometer title_status transmission drive size       type  \\\n",
       "0          NaN       NaN          NaN          NaN   NaN  NaN        NaN   \n",
       "1          NaN       NaN          NaN          NaN   NaN  NaN        NaN   \n",
       "2          NaN       NaN          NaN          NaN   NaN  NaN        NaN   \n",
       "3          NaN       NaN          NaN          NaN   NaN  NaN        NaN   \n",
       "4          NaN       NaN          NaN          NaN   NaN  NaN        NaN   \n",
       "...        ...       ...          ...          ...   ...  ...        ...   \n",
       "426875     gas   32226.0        clean        other   fwd  NaN      sedan   \n",
       "426876     gas   12029.0        clean        other   fwd  NaN      sedan   \n",
       "426877  diesel    4174.0        clean        other   NaN  NaN  hatchback   \n",
       "426878     gas   30112.0        clean        other   fwd  NaN      sedan   \n",
       "426879     gas   22716.0        clean        other   rwd  NaN      coupe   \n",
       "\n",
       "       paint_color  county state  \n",
       "0              NaN     NaN    az  \n",
       "1              NaN     NaN    ar  \n",
       "2              NaN     NaN    fl  \n",
       "3              NaN     NaN    ma  \n",
       "4              NaN     NaN    nc  \n",
       "...            ...     ...   ...  \n",
       "426875         NaN     NaN    wy  \n",
       "426876         red     NaN    wy  \n",
       "426877       white     NaN    wy  \n",
       "426878      silver     NaN    wy  \n",
       "426879         NaN     NaN    wy  \n",
       "\n",
       "[426880 rows x 18 columns]"
      ]
     },
     "execution_count": 20,
     "metadata": {},
     "output_type": "execute_result"
    }
   ],
   "source": [
    "cars_df.drop(['id', 'id', 'VIN', 'url', 'image_url', 'description', 'posting_date', 'lat', 'long'], axis=1)"
   ]
  },
  {
   "cell_type": "markdown",
   "metadata": {
    "id": "SKlWlKM3sa0o"
   },
   "source": [
    "1b) Stores the number of observations or records in the dataframe in one variable and the number of columns in another (after deletion) for subsequent analysis."
   ]
  },
  {
   "cell_type": "code",
   "execution_count": 34,
   "metadata": {
    "id": "cqo7IbVAVGJk"
   },
   "outputs": [
    {
     "data": {
      "text/plain": [
       "id              426880\n",
       "url             426880\n",
       "region          426880\n",
       "region_url      426880\n",
       "price           426880\n",
       "year            425675\n",
       "manufacturer    409234\n",
       "model           421603\n",
       "condition       252776\n",
       "cylinders       249202\n",
       "fuel            423867\n",
       "odometer        422480\n",
       "title_status    418638\n",
       "transmission    424324\n",
       "VIN             265838\n",
       "drive           296313\n",
       "size            120519\n",
       "type            334022\n",
       "paint_color     296677\n",
       "image_url       426812\n",
       "description     426810\n",
       "county               0\n",
       "state           426880\n",
       "lat             420331\n",
       "long            420331\n",
       "posting_date    426812\n",
       "dtype: int64"
      ]
     },
     "execution_count": 34,
     "metadata": {},
     "output_type": "execute_result"
    }
   ],
   "source": [
    "#colums_cars = cars_df.count(axis=0)\n",
    "#print (columns)\n",
    "cars_df.count(axis=0)"
   ]
  },
  {
   "cell_type": "code",
   "execution_count": 35,
   "metadata": {},
   "outputs": [
    {
     "data": {
      "text/plain": [
       "0          6\n",
       "1          6\n",
       "2          6\n",
       "3          6\n",
       "4          6\n",
       "          ..\n",
       "426875    23\n",
       "426876    23\n",
       "426877    22\n",
       "426878    24\n",
       "426879    22\n",
       "Length: 426880, dtype: int64"
      ]
     },
     "execution_count": 35,
     "metadata": {},
     "output_type": "execute_result"
    }
   ],
   "source": [
    "#rows_cars = cars_df.count(axis=0)\n",
    "#print (rows_cars)\n",
    "cars_df.count(axis=1)"
   ]
  },
  {
   "cell_type": "markdown",
   "metadata": {
    "id": "Oy9NansLCKIC"
   },
   "source": [
    "## Missing Values"
   ]
  },
  {
   "cell_type": "markdown",
   "metadata": {
    "id": "Lxx7KHBZtJPV"
   },
   "source": [
    "When the number of missing values in a column is large enough (approximately more than 25%), estimating and entering the missing values is meaningless, and deleting the attribute is better than estimating the missing values. https://learning.oreilly.com/library/view/hands-on-data-preprocessing/9781801072137/B17397_11_Final_NM_ePub.xhtml#_idParaDest-188\n",
    "\n",
    "However, this is not a rule applicable to all scenarios and there are many discussions around it. https://discuss.analyticsvidhya.com/t/what-should-be-the-allowed-percentage-of-missing-values/2456/10\n",
    "\n",
    "For this activity we will use a threshold of 0.70 of the number of records (those columns that have 70% non-null values). Also consider that we are assuming that these variables are MCAR or MAR without any graphical or statistical method."
   ]
  },
  {
   "cell_type": "markdown",
   "metadata": {
    "id": "SI-uWA9cs0TZ"
   },
   "source": [
    "2a) Determine the percentage of missing values per column and eliminate those that have 30% or more missing values. To do this, use the `thresh` parameter of the `dropna()` function. How many columns were removed?\n"
   ]
  },
  {
   "cell_type": "code",
   "execution_count": 6,
   "metadata": {
    "id": "pNiSZv9dCjr0"
   },
   "outputs": [
    {
     "name": "stdout",
     "output_type": "stream",
     "text": [
      "                id                                                url  \\\n",
      "27      7316814884  https://auburn.craigslist.org/ctd/d/auburn-uni...   \n",
      "28      7316814758  https://auburn.craigslist.org/ctd/d/auburn-uni...   \n",
      "29      7316814989  https://auburn.craigslist.org/ctd/d/auburn-uni...   \n",
      "30      7316743432  https://auburn.craigslist.org/ctd/d/auburn-uni...   \n",
      "31      7316356412  https://auburn.craigslist.org/cto/d/auburn-uni...   \n",
      "...            ...                                                ...   \n",
      "426875  7301591192  https://wyoming.craigslist.org/ctd/d/atlanta-2...   \n",
      "426876  7301591187  https://wyoming.craigslist.org/ctd/d/atlanta-2...   \n",
      "426877  7301591147  https://wyoming.craigslist.org/ctd/d/atlanta-2...   \n",
      "426878  7301591140  https://wyoming.craigslist.org/ctd/d/atlanta-2...   \n",
      "426879  7301591129  https://wyoming.craigslist.org/ctd/d/atlanta-2...   \n",
      "\n",
      "         region                      region_url  price    year manufacturer  \\\n",
      "27       auburn   https://auburn.craigslist.org  33590  2014.0          gmc   \n",
      "28       auburn   https://auburn.craigslist.org  22590  2010.0    chevrolet   \n",
      "29       auburn   https://auburn.craigslist.org  39590  2020.0    chevrolet   \n",
      "30       auburn   https://auburn.craigslist.org  30990  2017.0       toyota   \n",
      "31       auburn   https://auburn.craigslist.org  15000  2013.0         ford   \n",
      "...         ...                             ...    ...     ...          ...   \n",
      "426875  wyoming  https://wyoming.craigslist.org  23590  2019.0       nissan   \n",
      "426876  wyoming  https://wyoming.craigslist.org  30590  2020.0        volvo   \n",
      "426877  wyoming  https://wyoming.craigslist.org  34990  2020.0     cadillac   \n",
      "426878  wyoming  https://wyoming.craigslist.org  28990  2018.0        lexus   \n",
      "426879  wyoming  https://wyoming.craigslist.org  30590  2019.0          bmw   \n",
      "\n",
      "                           model  condition    cylinders  ...       size  \\\n",
      "27      sierra 1500 crew cab slt       good  8 cylinders  ...        NaN   \n",
      "28                silverado 1500       good  8 cylinders  ...        NaN   \n",
      "29           silverado 1500 crew       good  8 cylinders  ...        NaN   \n",
      "30          tundra double cab sr       good  8 cylinders  ...        NaN   \n",
      "31                     f-150 xlt  excellent  6 cylinders  ...  full-size   \n",
      "...                          ...        ...          ...  ...        ...   \n",
      "426875         maxima s sedan 4d       good  6 cylinders  ...        NaN   \n",
      "426876  s60 t5 momentum sedan 4d       good          NaN  ...        NaN   \n",
      "426877          xt4 sport suv 4d       good          NaN  ...        NaN   \n",
      "426878           es 350 sedan 4d       good  6 cylinders  ...        NaN   \n",
      "426879  4 series 430i gran coupe       good          NaN  ...        NaN   \n",
      "\n",
      "             type paint_color  \\\n",
      "27         pickup       white   \n",
      "28         pickup        blue   \n",
      "29         pickup         red   \n",
      "30         pickup         red   \n",
      "31          truck       black   \n",
      "...           ...         ...   \n",
      "426875      sedan         NaN   \n",
      "426876      sedan         red   \n",
      "426877  hatchback       white   \n",
      "426878      sedan      silver   \n",
      "426879      coupe         NaN   \n",
      "\n",
      "                                                image_url  \\\n",
      "27      https://images.craigslist.org/00R0R_lwWjXSEWNa...   \n",
      "28      https://images.craigslist.org/00R0R_lwWjXSEWNa...   \n",
      "29      https://images.craigslist.org/01212_jjirIWa0y0...   \n",
      "30      https://images.craigslist.org/00x0x_1y9kIOzGCF...   \n",
      "31      https://images.craigslist.org/00404_l4loxHvdQe...   \n",
      "...                                                   ...   \n",
      "426875  https://images.craigslist.org/00o0o_iiraFnHg8q...   \n",
      "426876  https://images.craigslist.org/00x0x_15sbgnxCIS...   \n",
      "426877  https://images.craigslist.org/00L0L_farM7bxnxR...   \n",
      "426878  https://images.craigslist.org/00z0z_bKnIVGLkDT...   \n",
      "426879  https://images.craigslist.org/00Y0Y_lEUocjyRxa...   \n",
      "\n",
      "                                              description county state  \\\n",
      "27      Carvana is the safer way to buy a car During t...    NaN    al   \n",
      "28      Carvana is the safer way to buy a car During t...    NaN    al   \n",
      "29      Carvana is the safer way to buy a car During t...    NaN    al   \n",
      "30      Carvana is the safer way to buy a car During t...    NaN    al   \n",
      "31      2013 F-150 XLT V6 4 Door. Good condition. Leve...    NaN    al   \n",
      "...                                                   ...    ...   ...   \n",
      "426875  Carvana is the safer way to buy a car During t...    NaN    wy   \n",
      "426876  Carvana is the safer way to buy a car During t...    NaN    wy   \n",
      "426877  Carvana is the safer way to buy a car During t...    NaN    wy   \n",
      "426878  Carvana is the safer way to buy a car During t...    NaN    wy   \n",
      "426879  Carvana is the safer way to buy a car During t...    NaN    wy   \n",
      "\n",
      "              lat       long              posting_date  \n",
      "27      32.590000 -85.480000  2021-05-04T12:31:18-0500  \n",
      "28      32.590000 -85.480000  2021-05-04T12:31:08-0500  \n",
      "29      32.590000 -85.480000  2021-05-04T12:31:25-0500  \n",
      "30      32.590000 -85.480000  2021-05-04T10:41:31-0500  \n",
      "31      32.592000 -85.518900  2021-05-03T14:02:03-0500  \n",
      "...           ...        ...                       ...  \n",
      "426875  33.786500 -84.445400  2021-04-04T03:21:31-0600  \n",
      "426876  33.786500 -84.445400  2021-04-04T03:21:29-0600  \n",
      "426877  33.779214 -84.411811  2021-04-04T03:21:17-0600  \n",
      "426878  33.786500 -84.445400  2021-04-04T03:21:11-0600  \n",
      "426879  33.779214 -84.411811  2021-04-04T03:21:07-0600  \n",
      "\n",
      "[390742 rows x 26 columns]\n"
     ]
    }
   ],
   "source": [
    "df=cars_df.dropna(axis=0,thresh=cars_df.shape[1]*0.7)\n",
    "print (df)"
   ]
  },
  {
   "cell_type": "markdown",
   "metadata": {
    "id": "TP9PRQdu92td"
   },
   "source": [
    "Also, when we have large data sets, we can delete rows that contain null values. Although, it is not recommended if the percentage of missing values in the data set is more than 30%\n",
    "https://medium.com/analytics-vidhya/how-to-deal-with-missing-values-in-data-set-8e8f70ecf155"
   ]
  },
  {
   "cell_type": "markdown",
   "metadata": {
    "id": "R7lZuQncu4F6"
   },
   "source": [
    "2b) Delete records containing `NaN` in columns with less than 5% missing values using the subset parameter. What percentage of the initial records were deleted?"
   ]
  },
  {
   "cell_type": "code",
   "execution_count": 7,
   "metadata": {
    "id": "9OWIHf2xzKMO"
   },
   "outputs": [
    {
     "name": "stdout",
     "output_type": "stream",
     "text": [
      "                id                                                url  \\\n",
      "0       7222695916  https://prescott.craigslist.org/cto/d/prescott...   \n",
      "1       7218891961  https://fayar.craigslist.org/ctd/d/bentonville...   \n",
      "2       7221797935  https://keys.craigslist.org/cto/d/summerland-k...   \n",
      "3       7222270760  https://worcester.craigslist.org/cto/d/west-br...   \n",
      "4       7210384030  https://greensboro.craigslist.org/cto/d/trinit...   \n",
      "...            ...                                                ...   \n",
      "426875  7301591192  https://wyoming.craigslist.org/ctd/d/atlanta-2...   \n",
      "426876  7301591187  https://wyoming.craigslist.org/ctd/d/atlanta-2...   \n",
      "426877  7301591147  https://wyoming.craigslist.org/ctd/d/atlanta-2...   \n",
      "426878  7301591140  https://wyoming.craigslist.org/ctd/d/atlanta-2...   \n",
      "426879  7301591129  https://wyoming.craigslist.org/ctd/d/atlanta-2...   \n",
      "\n",
      "                        region                         region_url  price  \\\n",
      "0                     prescott    https://prescott.craigslist.org   6000   \n",
      "1                 fayetteville       https://fayar.craigslist.org  11900   \n",
      "2                 florida keys        https://keys.craigslist.org  21000   \n",
      "3       worcester / central MA   https://worcester.craigslist.org   1500   \n",
      "4                   greensboro  https://greensboro.craigslist.org   4900   \n",
      "...                        ...                                ...    ...   \n",
      "426875                 wyoming     https://wyoming.craigslist.org  23590   \n",
      "426876                 wyoming     https://wyoming.craigslist.org  30590   \n",
      "426877                 wyoming     https://wyoming.craigslist.org  34990   \n",
      "426878                 wyoming     https://wyoming.craigslist.org  28990   \n",
      "426879                 wyoming     https://wyoming.craigslist.org  30590   \n",
      "\n",
      "          year manufacturer                     model condition    cylinders  \\\n",
      "0          NaN          NaN                       NaN       NaN          NaN   \n",
      "1          NaN          NaN                       NaN       NaN          NaN   \n",
      "2          NaN          NaN                       NaN       NaN          NaN   \n",
      "3          NaN          NaN                       NaN       NaN          NaN   \n",
      "4          NaN          NaN                       NaN       NaN          NaN   \n",
      "...        ...          ...                       ...       ...          ...   \n",
      "426875  2019.0       nissan         maxima s sedan 4d      good  6 cylinders   \n",
      "426876  2020.0        volvo  s60 t5 momentum sedan 4d      good          NaN   \n",
      "426877  2020.0     cadillac          xt4 sport suv 4d      good          NaN   \n",
      "426878  2018.0        lexus           es 350 sedan 4d      good  6 cylinders   \n",
      "426879  2019.0          bmw  4 series 430i gran coupe      good          NaN   \n",
      "\n",
      "        ... size       type paint_color  \\\n",
      "0       ...  NaN        NaN         NaN   \n",
      "1       ...  NaN        NaN         NaN   \n",
      "2       ...  NaN        NaN         NaN   \n",
      "3       ...  NaN        NaN         NaN   \n",
      "4       ...  NaN        NaN         NaN   \n",
      "...     ...  ...        ...         ...   \n",
      "426875  ...  NaN      sedan         NaN   \n",
      "426876  ...  NaN      sedan         red   \n",
      "426877  ...  NaN  hatchback       white   \n",
      "426878  ...  NaN      sedan      silver   \n",
      "426879  ...  NaN      coupe         NaN   \n",
      "\n",
      "                                                image_url  \\\n",
      "0                                                     NaN   \n",
      "1                                                     NaN   \n",
      "2                                                     NaN   \n",
      "3                                                     NaN   \n",
      "4                                                     NaN   \n",
      "...                                                   ...   \n",
      "426875  https://images.craigslist.org/00o0o_iiraFnHg8q...   \n",
      "426876  https://images.craigslist.org/00x0x_15sbgnxCIS...   \n",
      "426877  https://images.craigslist.org/00L0L_farM7bxnxR...   \n",
      "426878  https://images.craigslist.org/00z0z_bKnIVGLkDT...   \n",
      "426879  https://images.craigslist.org/00Y0Y_lEUocjyRxa...   \n",
      "\n",
      "                                              description county state  \\\n",
      "0                                                     NaN    NaN    az   \n",
      "1                                                     NaN    NaN    ar   \n",
      "2                                                     NaN    NaN    fl   \n",
      "3                                                     NaN    NaN    ma   \n",
      "4                                                     NaN    NaN    nc   \n",
      "...                                                   ...    ...   ...   \n",
      "426875  Carvana is the safer way to buy a car During t...    NaN    wy   \n",
      "426876  Carvana is the safer way to buy a car During t...    NaN    wy   \n",
      "426877  Carvana is the safer way to buy a car During t...    NaN    wy   \n",
      "426878  Carvana is the safer way to buy a car During t...    NaN    wy   \n",
      "426879  Carvana is the safer way to buy a car During t...    NaN    wy   \n",
      "\n",
      "              lat       long              posting_date  \n",
      "0             NaN        NaN                       NaN  \n",
      "1             NaN        NaN                       NaN  \n",
      "2             NaN        NaN                       NaN  \n",
      "3             NaN        NaN                       NaN  \n",
      "4             NaN        NaN                       NaN  \n",
      "...           ...        ...                       ...  \n",
      "426875  33.786500 -84.445400  2021-04-04T03:21:31-0600  \n",
      "426876  33.786500 -84.445400  2021-04-04T03:21:29-0600  \n",
      "426877  33.779214 -84.411811  2021-04-04T03:21:17-0600  \n",
      "426878  33.786500 -84.445400  2021-04-04T03:21:11-0600  \n",
      "426879  33.779214 -84.411811  2021-04-04T03:21:07-0600  \n",
      "\n",
      "[426880 rows x 26 columns]\n"
     ]
    }
   ],
   "source": [
    "df=cars_df.dropna(axis=0,thresh=cars_df.shape[1]*0.05)\n",
    "print (df)"
   ]
  },
  {
   "cell_type": "markdown",
   "metadata": {
    "id": "nLkHFRaM0J3m"
   },
   "source": [
    "2c) If there are variables that still have missing values, use the appropriate imputation method (`mean, median, mode`)"
   ]
  },
  {
   "cell_type": "code",
   "execution_count": 8,
   "metadata": {
    "id": "QXNQv4VhO6sq"
   },
   "outputs": [
    {
     "data": {
      "text/html": [
       "<div>\n",
       "<style scoped>\n",
       "    .dataframe tbody tr th:only-of-type {\n",
       "        vertical-align: middle;\n",
       "    }\n",
       "\n",
       "    .dataframe tbody tr th {\n",
       "        vertical-align: top;\n",
       "    }\n",
       "\n",
       "    .dataframe thead th {\n",
       "        text-align: right;\n",
       "    }\n",
       "</style>\n",
       "<table border=\"1\" class=\"dataframe\">\n",
       "  <thead>\n",
       "    <tr style=\"text-align: right;\">\n",
       "      <th></th>\n",
       "      <th>id</th>\n",
       "      <th>price</th>\n",
       "      <th>year</th>\n",
       "      <th>odometer</th>\n",
       "      <th>county</th>\n",
       "      <th>lat</th>\n",
       "      <th>long</th>\n",
       "    </tr>\n",
       "  </thead>\n",
       "  <tbody>\n",
       "    <tr>\n",
       "      <th>count</th>\n",
       "      <td>4.268800e+05</td>\n",
       "      <td>4.268800e+05</td>\n",
       "      <td>425675.000000</td>\n",
       "      <td>4.224800e+05</td>\n",
       "      <td>0.0</td>\n",
       "      <td>420331.000000</td>\n",
       "      <td>420331.000000</td>\n",
       "    </tr>\n",
       "    <tr>\n",
       "      <th>mean</th>\n",
       "      <td>7.311487e+09</td>\n",
       "      <td>7.519903e+04</td>\n",
       "      <td>2011.235191</td>\n",
       "      <td>9.804333e+04</td>\n",
       "      <td>NaN</td>\n",
       "      <td>38.493940</td>\n",
       "      <td>-94.748599</td>\n",
       "    </tr>\n",
       "    <tr>\n",
       "      <th>std</th>\n",
       "      <td>4.473170e+06</td>\n",
       "      <td>1.218228e+07</td>\n",
       "      <td>9.452120</td>\n",
       "      <td>2.138815e+05</td>\n",
       "      <td>NaN</td>\n",
       "      <td>5.841533</td>\n",
       "      <td>18.365462</td>\n",
       "    </tr>\n",
       "    <tr>\n",
       "      <th>min</th>\n",
       "      <td>7.207408e+09</td>\n",
       "      <td>0.000000e+00</td>\n",
       "      <td>1900.000000</td>\n",
       "      <td>0.000000e+00</td>\n",
       "      <td>NaN</td>\n",
       "      <td>-84.122245</td>\n",
       "      <td>-159.827728</td>\n",
       "    </tr>\n",
       "    <tr>\n",
       "      <th>25%</th>\n",
       "      <td>7.308143e+09</td>\n",
       "      <td>5.900000e+03</td>\n",
       "      <td>2008.000000</td>\n",
       "      <td>3.770400e+04</td>\n",
       "      <td>NaN</td>\n",
       "      <td>34.601900</td>\n",
       "      <td>-111.939847</td>\n",
       "    </tr>\n",
       "    <tr>\n",
       "      <th>50%</th>\n",
       "      <td>7.312621e+09</td>\n",
       "      <td>1.395000e+04</td>\n",
       "      <td>2013.000000</td>\n",
       "      <td>8.554800e+04</td>\n",
       "      <td>NaN</td>\n",
       "      <td>39.150100</td>\n",
       "      <td>-88.432600</td>\n",
       "    </tr>\n",
       "    <tr>\n",
       "      <th>75%</th>\n",
       "      <td>7.315254e+09</td>\n",
       "      <td>2.648575e+04</td>\n",
       "      <td>2017.000000</td>\n",
       "      <td>1.335425e+05</td>\n",
       "      <td>NaN</td>\n",
       "      <td>42.398900</td>\n",
       "      <td>-80.832039</td>\n",
       "    </tr>\n",
       "    <tr>\n",
       "      <th>max</th>\n",
       "      <td>7.317101e+09</td>\n",
       "      <td>3.736929e+09</td>\n",
       "      <td>2022.000000</td>\n",
       "      <td>1.000000e+07</td>\n",
       "      <td>NaN</td>\n",
       "      <td>82.390818</td>\n",
       "      <td>173.885502</td>\n",
       "    </tr>\n",
       "  </tbody>\n",
       "</table>\n",
       "</div>"
      ],
      "text/plain": [
       "                 id         price           year      odometer  county  \\\n",
       "count  4.268800e+05  4.268800e+05  425675.000000  4.224800e+05     0.0   \n",
       "mean   7.311487e+09  7.519903e+04    2011.235191  9.804333e+04     NaN   \n",
       "std    4.473170e+06  1.218228e+07       9.452120  2.138815e+05     NaN   \n",
       "min    7.207408e+09  0.000000e+00    1900.000000  0.000000e+00     NaN   \n",
       "25%    7.308143e+09  5.900000e+03    2008.000000  3.770400e+04     NaN   \n",
       "50%    7.312621e+09  1.395000e+04    2013.000000  8.554800e+04     NaN   \n",
       "75%    7.315254e+09  2.648575e+04    2017.000000  1.335425e+05     NaN   \n",
       "max    7.317101e+09  3.736929e+09    2022.000000  1.000000e+07     NaN   \n",
       "\n",
       "                 lat           long  \n",
       "count  420331.000000  420331.000000  \n",
       "mean       38.493940     -94.748599  \n",
       "std         5.841533      18.365462  \n",
       "min       -84.122245    -159.827728  \n",
       "25%        34.601900    -111.939847  \n",
       "50%        39.150100     -88.432600  \n",
       "75%        42.398900     -80.832039  \n",
       "max        82.390818     173.885502  "
      ]
     },
     "execution_count": 8,
     "metadata": {},
     "output_type": "execute_result"
    }
   ],
   "source": [
    "df.describe()"
   ]
  },
  {
   "cell_type": "markdown",
   "metadata": {
    "id": "JUnSpPktCqZy"
   },
   "source": [
    "## Atypical values"
   ]
  },
  {
   "cell_type": "markdown",
   "metadata": {
    "id": "JzbnXqgG0k6-"
   },
   "source": [
    "3a) Obtain the histogram of the variables `price`, `year` and `odometer` to observe their distribution."
   ]
  },
  {
   "cell_type": "code",
   "execution_count": null,
   "metadata": {
    "id": "PMmRujGu8aQS"
   },
   "outputs": [],
   "source": []
  },
  {
   "cell_type": "code",
   "execution_count": 13,
   "metadata": {},
   "outputs": [
    {
     "data": {
      "text/plain": [
       "array([[<matplotlib.axes._subplots.AxesSubplot object at 0x000001FE327FF108>]],\n",
       "      dtype=object)"
      ]
     },
     "execution_count": 13,
     "metadata": {},
     "output_type": "execute_result"
    },
    {
     "data": {
      "image/png": "[encoded data removed]",
      "text/plain": [
       "<Figure size 432x288 with 1 Axes>"
      ]
     },
     "metadata": {
      "needs_background": "light"
     },
     "output_type": "display_data"
    },
    {
     "data": {
      "image/png": "[encoded data removed]",
      "text/plain": [
       "<Figure size 432x288 with 1 Axes>"
      ]
     },
     "metadata": {
      "needs_background": "light"
     },
     "output_type": "display_data"
    },
    {
     "data": {
      "image/png": "[encoded data removed]",
      "text/plain": [
       "<Figure size 432x288 with 1 Axes>"
      ]
     },
     "metadata": {
      "needs_background": "light"
     },
     "output_type": "display_data"
    }
   ],
   "source": [
    "df.hist('price')\n",
    "df.hist('year')\n",
    "df.hist('odometer')"
   ]
  },
  {
   "cell_type": "markdown",
   "metadata": {
    "id": "kP24u7B00qhW"
   },
   "source": [
    "3b) Add the `age` column, calculated from `year`, to determine the years of the vehicle and once obtained, eliminate the `year` column. Generate the histogram of the new variable."
   ]
  },
  {
   "cell_type": "code",
   "execution_count": null,
   "metadata": {
    "id": "KNBYVkBu7AjE"
   },
   "outputs": [],
   "source": []
  },
  {
   "cell_type": "markdown",
   "metadata": {
    "id": "CnpwE1Fd03gE"
   },
   "source": [
    "4a) To visualize if there are outliers, generate box plot graphs for the three variables (`price, age, odometer`)"
   ]
  },
  {
   "cell_type": "code",
   "execution_count": 18,
   "metadata": {
    "id": "0Pc8uO52JETb"
   },
   "outputs": [
    {
     "data": {
      "text/plain": [
       "<matplotlib.axes._subplots.AxesSubplot at 0x1fe327aa348>"
      ]
     },
     "execution_count": 18,
     "metadata": {},
     "output_type": "execute_result"
    },
    {
     "data": {
      "image/png": "[encoded data removed]",
      "text/plain": [
       "<Figure size 432x288 with 1 Axes>"
      ]
     },
     "metadata": {
      "needs_background": "light"
     },
     "output_type": "display_data"
    }
   ],
   "source": [
    "df.boxplot(column=['price','odometer'])"
   ]
  },
  {
   "cell_type": "markdown",
   "metadata": {
    "id": "cSLCXXoFDmJz"
   },
   "source": [
    "If the set of outliers is “relatively large” (although we know that they must be around 5% of the total data set), carry out a particular investigation on them that allows better decisions to be made."
   ]
  },
  {
   "cell_type": "markdown",
   "metadata": {
    "id": "JFiE-daA1Ist"
   },
   "source": [
    "4b) Calculate, for each variable, the percentage of its outliers and eliminate them from the dataframe. What percentage of the initial records were eliminated?"
   ]
  },
  {
   "cell_type": "code",
   "execution_count": null,
   "metadata": {
    "id": "tPi6oaMcCzPC"
   },
   "outputs": [],
   "source": []
  },
  {
   "cell_type": "markdown",
   "metadata": {
    "id": "dwCOyowi1XdX"
   },
   "source": [
    "4c) Draw the histograms again to clearly observe the bias of the variables after eliminating the outliers."
   ]
  },
  {
   "cell_type": "code",
   "execution_count": null,
   "metadata": {
    "id": "0qcrUjHpUJyZ"
   },
   "outputs": [],
   "source": []
  },
  {
   "cell_type": "markdown",
   "metadata": {
    "id": "hzzT7f53oBE3"
   },
   "source": [
    "# **Part 2**. Feature Engineering"
   ]
  },
  {
   "cell_type": "markdown",
   "metadata": {
    "id": "qq6Y5lvS1lNA"
   },
   "source": [
    "## Transforming numeric variables"
   ]
  },
  {
   "cell_type": "markdown",
   "metadata": {
    "id": "EryjdcZZebJQ"
   },
   "source": [
    "The distribution of the variables will determine which method to use and in what order. For example, on skewed variables the transformation should be performed first and then the scaling, since the desired effect is to \"skew\" the axis distributions and that effect is maximized when applied over the full range compared to applying it to variables with a skew unitary standard (by z-score) or variables in the range [0,1] (by Min-Max).\n",
    "\n",
    "Applying this scaling before would compress most of the data into a narrow range. Then you should start by transforming the feature into Gaussian and then scaling it."
   ]
  },
  {
   "cell_type": "markdown",
   "metadata": {
    "id": "KWiPJ9Mr37pE"
   },
   "source": [
    "5a) Generate Q-Q graphs of the variables `price, age, odometer` to observe the differences between their distributions and the normal one."
   ]
  },
  {
   "cell_type": "code",
   "execution_count": null,
   "metadata": {
    "id": "JK6fCovqi_8b"
   },
   "outputs": [],
   "source": []
  },
  {
   "cell_type": "markdown",
   "metadata": {
    "id": "0iFAddRP9d3L"
   },
   "source": [
    "The Box-Cox and Yeo-Johnson transformations are generalizations, as they include special cases of transformations: logarithmic (λ = 0), reciprocal (λ = -1), square root (λ = 0.5) and more exponents. In Box-Cox, several values of λ are evaluated and the one that gives the best transformation is selected.\n",
    "\n",
    "The Yeo-Johnson transformation is an extension of the Box-Cox transformation that is no longer restricted to positive values. In other words, the Yeo-Johnson transformation can be used on variables with zero and negative values, as well as positive values. When the variable has only positive values, the Yeo-Johnson transformation is like the Box-Cox transformation of the variable plus one.\n",
    "\n",
    "In this case, since the price and odometer variables have values of 0, we will use Yeo-Johnson.\n",
    "\n",
    "5b) Apply the Yeo-Johnson transformation to reduce the bias in these variables. Do this in a copy of the dataframe that you will call transf_df."
   ]
  },
  {
   "cell_type": "markdown",
   "metadata": {
    "id": "c2Ku4FXx4JRB"
   },
   "source": [
    "5b) Apply the Yeo-Johnson transformation to reduce the bias in these variables. Do this in a copy of the dataframe that you will call `transf_df`."
   ]
  },
  {
   "cell_type": "code",
   "execution_count": null,
   "metadata": {
    "id": "h3lerMMowNwp"
   },
   "outputs": [],
   "source": []
  },
  {
   "cell_type": "markdown",
   "metadata": {
    "id": "sWTYPdle6b0y"
   },
   "source": [
    "5c) Redraw the Q-Q plots and histograms to observe the effect of the transformation."
   ]
  },
  {
   "cell_type": "code",
   "execution_count": null,
   "metadata": {
    "id": "joI93I1Jmuo5"
   },
   "outputs": [],
   "source": []
  },
  {
   "cell_type": "markdown",
   "metadata": {
    "id": "ZCZTx1EJ6hYY"
   },
   "source": [
    "## Scaling numeric variables"
   ]
  },
  {
   "cell_type": "markdown",
   "metadata": {
    "id": "9uCmCSTs6t88"
   },
   "source": [
    "6a) As the three variables have different scales, apply the Min-Max method (to the dataframe obtained: `transf_df`) so that they remain in the fixed range [0 to 1]. Do this in a copy of the dataframe that you will name `minmax_df`."
   ]
  },
  {
   "cell_type": "code",
   "execution_count": 22,
   "metadata": {
    "id": "0wiPtlcaYaCd"
   },
   "outputs": [
    {
     "name": "stdout",
     "output_type": "stream",
     "text": [
      "3736928711\n",
      "0\n"
     ]
    }
   ],
   "source": [
    "print(df['price'].max())\n",
    "print(df['price'].min())"
   ]
  },
  {
   "cell_type": "markdown",
   "metadata": {
    "id": "-qnZqBV97GWY"
   },
   "source": [
    "6b) Redraw the histograms to verify that scaling does not change the distribution."
   ]
  },
  {
   "cell_type": "code",
   "execution_count": null,
   "metadata": {
    "id": "0GV-HuS4XawC"
   },
   "outputs": [],
   "source": []
  },
  {
   "cell_type": "markdown",
   "metadata": {
    "id": "F7fnBt2EpH8f"
   },
   "source": [
    "## Coding categorical variables"
   ]
  },
  {
   "cell_type": "markdown",
   "metadata": {
    "id": "L65WLdE67P2g"
   },
   "source": [
    "7a) Use the `describe()` method to obtain the summary of the descriptive statistics on the categorical variables."
   ]
  },
  {
   "cell_type": "code",
   "execution_count": 52,
   "metadata": {
    "id": "Brq9wSlkC0wA"
   },
   "outputs": [
    {
     "name": "stdout",
     "output_type": "stream",
     "text": [
      "                 id         price           year      odometer  county  \\\n",
      "count  4.268800e+05  4.268800e+05  425675.000000  4.224800e+05     0.0   \n",
      "mean   7.311487e+09  7.519903e+04    2011.235191  9.804333e+04     NaN   \n",
      "std    4.473170e+06  1.218228e+07       9.452120  2.138815e+05     NaN   \n",
      "min    7.207408e+09  0.000000e+00    1900.000000  0.000000e+00     NaN   \n",
      "25%    7.308143e+09  5.900000e+03    2008.000000  3.770400e+04     NaN   \n",
      "50%    7.312621e+09  1.395000e+04    2013.000000  8.554800e+04     NaN   \n",
      "75%    7.315254e+09  2.648575e+04    2017.000000  1.335425e+05     NaN   \n",
      "max    7.317101e+09  3.736929e+09    2022.000000  1.000000e+07     NaN   \n",
      "\n",
      "                 lat           long  \n",
      "count  420331.000000  420331.000000  \n",
      "mean       38.493940     -94.748599  \n",
      "std         5.841533      18.365462  \n",
      "min       -84.122245    -159.827728  \n",
      "25%        34.601900    -111.939847  \n",
      "50%        39.150100     -88.432600  \n",
      "75%        42.398900     -80.832039  \n",
      "max        82.390818     173.885502  \n"
     ]
    }
   ],
   "source": [
    "print (cars_df.describe())"
   ]
  },
  {
   "cell_type": "markdown",
   "metadata": {
    "id": "xFos2wk37ZPN"
   },
   "source": [
    "7b) According to the observed cardinality, separate the names of the variables with high cardinality and low cardinality into two lists (`highly_cardinal_variables` and `few_cardinal_variables`) respectively."
   ]
  },
  {
   "cell_type": "code",
   "execution_count": null,
   "metadata": {
    "id": "KQrvdvce7sM7"
   },
   "outputs": [],
   "source": []
  },
  {
   "cell_type": "markdown",
   "metadata": {
    "id": "lpvDGeOe7l0l"
   },
   "source": [
    "7c) Display in bar graphs the frequencies of the categories for the variables with low cardinality (in `few_cardinal_variables`)"
   ]
  },
  {
   "cell_type": "code",
   "execution_count": null,
   "metadata": {
    "id": "xsvq3cIO8nwL"
   },
   "outputs": [],
   "source": []
  },
  {
   "cell_type": "markdown",
   "metadata": {
    "id": "Oh_NXLM57xm3"
   },
   "source": [
    "8. Apply *one-hot* encoding to the variables in `few_cardinal_variables`, dropping the first category (`drop='first'`). Place the result in a dataframe named `onehot_df`."
   ]
  },
  {
   "cell_type": "code",
   "execution_count": null,
   "metadata": {
    "id": "RI_Lu8hZp783"
   },
   "outputs": [],
   "source": []
  },
  {
   "cell_type": "markdown",
   "metadata": {
    "id": "191XmIQr7_Jj"
   },
   "source": [
    "9. Apply binary encoding to the variables in `highly_cardinal_variables`."
   ]
  },
  {
   "cell_type": "code",
   "execution_count": null,
   "metadata": {
    "id": "SiNttZ-6-03x"
   },
   "outputs": [],
   "source": []
  },
  {
   "cell_type": "markdown",
   "metadata": {
    "id": "QRu3tbKA8HbQ"
   },
   "source": [
    "Concatenates the obtained dataframes: minmax_df (whose numerical variables are already transformed and scaled) and the previous encodings (onehot_df and binary_df). Take into account that if the indexes of the dataframes do not match, the concatenation will not be carried out correctly. Use reset_index(drop=True, inplace=True) to reset the indexes."
   ]
  },
  {
   "cell_type": "code",
   "execution_count": null,
   "metadata": {
    "id": "svK6DO298cCf"
   },
   "outputs": [],
   "source": []
  }
 ],
 "metadata": {
  "colab": {
   "provenance": []
  },
  "kernelspec": {
   "display_name": "Python 3",
   "language": "python",
   "name": "python3"
  },
  "language_info": {
   "codemirror_mode": {
    "name": "ipython",
    "version": 3
   },
   "file_extension": ".py",
   "mimetype": "text/x-python",
   "name": "python",
   "nbconvert_exporter": "python",
   "pygments_lexer": "ipython3",
   "version": "3.7.6"
  }
 },
 "nbformat": 4,
 "nbformat_minor": 1
}
